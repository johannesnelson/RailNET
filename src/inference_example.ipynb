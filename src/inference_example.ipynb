{
 "cells": [
  {
   "cell_type": "code",
   "execution_count": 1,
   "id": "7f943ea5",
   "metadata": {},
   "outputs": [],
   "source": [
    "from ensemble_inference import EnsembleInference\n",
    "import model_maker as mm\n",
    "from train import load_checkpoint\n",
    "from load_RailNET import RailNET\n",
    "import torch\n",
    "from prep_transforms import get_preprocessing_transforms"
   ]
  },
  {
   "cell_type": "code",
   "execution_count": 2,
   "id": "c2004ae8",
   "metadata": {},
   "outputs": [],
   "source": [
    "device = torch.device(\"cuda\" if torch.cuda.is_available() else \"cpu\")"
   ]
  },
  {
   "cell_type": "code",
   "execution_count": 4,
   "id": "12229a1e",
   "metadata": {},
   "outputs": [],
   "source": [
    "preprocessing_transforms = get_preprocessing_transforms()\n"
   ]
  },
  {
   "cell_type": "code",
   "execution_count": 2,
   "id": "a74f815d",
   "metadata": {},
   "outputs": [],
   "source": [
    "RailNET = RailNET()"
   ]
  },
  {
   "cell_type": "code",
   "execution_count": 5,
   "id": "28bd9f9a",
   "metadata": {},
   "outputs": [],
   "source": [
    "inference_call = EnsembleInference(RailNET, preprocessing_transforms, threshold=0.5)\n"
   ]
  },
  {
   "cell_type": "code",
   "execution_count": 6,
   "id": "55cfbf3f",
   "metadata": {},
   "outputs": [],
   "source": [
    "filepath = \"data//sample_audio//many_calls.WAV\""
   ]
  },
  {
   "cell_type": "code",
   "execution_count": 7,
   "id": "8955d055",
   "metadata": {},
   "outputs": [],
   "source": [
    "result_df = inference_call.predict(filepath)\n",
    "\n",
    "result_df[result_df['prediction'] == 1]"
   ]
  },
  {
   "cell_type": "code",
   "execution_count": 8,
   "id": "0c15ffd8",
   "metadata": {},
   "outputs": [
    {
     "name": "stdout",
     "output_type": "stream",
     "text": [
      "Processed process_this\\S4A10027_20210426_070005.wav and saved results to process_this\\output\\S4A10027_20210426_070005_results.csv\n",
      "Processed process_this\\S4A10027_20220306_063004 (1).wav and saved results to process_this\\output\\S4A10027_20220306_063004 (1)_results.csv\n"
     ]
    }
   ],
   "source": [
    "inference_call.process_folder('sample_audio', 'output')"
   ]
  }
 ],
 "metadata": {
  "kernelspec": {
   "display_name": "torch_projects",
   "language": "python",
   "name": "torch_projects"
  },
  "language_info": {
   "codemirror_mode": {
    "name": "ipython",
    "version": 3
   },
   "file_extension": ".py",
   "mimetype": "text/x-python",
   "name": "python",
   "nbconvert_exporter": "python",
   "pygments_lexer": "ipython3",
   "version": "3.10.2"
  }
 },
 "nbformat": 4,
 "nbformat_minor": 5
}
